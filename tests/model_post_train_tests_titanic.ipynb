{
 "cells": [
  {
   "cell_type": "markdown",
   "id": "025e726c",
   "metadata": {},
   "source": [
    "# Import libraries and Dataset"
   ]
  },
  {
   "cell_type": "code",
   "execution_count": 1,
   "id": "9ab096db",
   "metadata": {},
   "outputs": [],
   "source": [
    "import pandas as pd\n",
    "import numpy as np\n",
    "import os\n",
    "import pickle\n",
    "import datasets\n",
    "import warnings\n",
    "warnings.filterwarnings('ignore')\n",
    "from sklearn.metrics import accuracy_score"
   ]
  },
  {
   "cell_type": "markdown",
   "id": "5973b7fa",
   "metadata": {},
   "source": [
    "We can select a single row to run our tests. For example lets look at 292nd row."
   ]
  },
  {
   "cell_type": "code",
   "execution_count": 20,
   "id": "728cd76a",
   "metadata": {},
   "outputs": [
    {
     "data": {
      "text/plain": [
       "Survived    1.000000\n",
       "Pclass     -1.321707\n",
       "Sex        -1.191964\n",
       "Age         0.537055\n",
       "SibSp      -0.460589\n",
       "Parch      -0.441409\n",
       "Ticket     -0.759871\n",
       "Fare        0.689423\n",
       "Embarked   -0.604770\n",
       "Name: 61, dtype: float64"
      ]
     },
     "execution_count": 20,
     "metadata": {},
     "output_type": "execute_result"
    }
   ],
   "source": [
    "titanic = datasets.get_titanic()\n",
    "titanic.iloc[291]"
   ]
  },
  {
   "cell_type": "markdown",
   "id": "962127bb",
   "metadata": {},
   "source": [
    "# Invariant Tests\n",
    "First, we check for invariance, by keeping everything constant and changing one irrelevent feature at a time. We should not expect survival probability to change due to the ticket number, or port of embarkation. If it runs without error then it means all the models pass this test."
   ]
  },
  {
   "cell_type": "code",
   "execution_count": 29,
   "id": "48b83842",
   "metadata": {},
   "outputs": [
    {
     "name": "stdout",
     "output_type": "stream",
     "text": [
      "Invariant Testing:\n",
      "\n",
      "GradientBoostingClassifier(learning_rate=0.01, max_depth=2, max_features='auto',\n",
      "                           random_state=0)\n",
      "LogisticRegression(C=0.01, max_iter=10, random_state=0, tol=0.01)\n",
      "MLPClassifier(batch_size=128, max_iter=500, random_state=0)\n",
      "OneVsRestClassifier(estimator=LinearSVC(), n_jobs=1)\n",
      "GaussianNB(var_smoothing=1e-07)\n",
      "LinearSVC(C=0.0001, max_iter=10, random_state=0, tol=0.01)\n",
      "DecisionTreeClassifier(max_depth=2, random_state=0)\n",
      "RandomForestClassifier(max_depth=10, random_state=0)\n",
      "Invariant Test Successful!\n"
     ]
    }
   ],
   "source": [
    "print(\"Invariant Testing:\\n\")\n",
    "for i in os.listdir(\"./models/titanic/sklearn/\"):\n",
    "    model = pickle.load(open(\"./models/titanic/sklearn/\"+i, 'rb'))\n",
    "    print(model)\n",
    "    X = datasets.get_titanic().iloc[291]\n",
    "    y = X[\"Survived\"]\n",
    "    X = X[1:]\n",
    "    p2_prob = model.predict(np.array(X).reshape(1, -1))[0]  # 1.0\n",
    "    X['Embarked'] = 2.47593535 \n",
    "    p2_embarked_prob = model.predict(np.array(X).reshape(1, -1))[0]  # 1.0 \n",
    "    assert p2_prob == p2_embarked_prob\n",
    "    # Change ticket number\n",
    "    X['Ticket'] = 1.86005416\n",
    "    p2_ticket_prob = model.predict(np.array(X).reshape(1, -1))[0]  # 1.0\n",
    "    assert p2_prob == p2_ticket_prob\n",
    "print(\"Invariant Test Successful!\")"
   ]
  },
  {
   "cell_type": "markdown",
   "id": "232ea4cd",
   "metadata": {},
   "source": [
    "# Directional Expectation Tests\n",
    "Now, we check for the relevent features for directional expectations. We should expect:\n",
    "   1. Females having higher survival probability (than males)\n",
    "   2. Higher passenger class having higher survival probability (than lower classes)\n",
    "   3. Higher fare having higher survival probability (than lower fare)"
   ]
  },
  {
   "cell_type": "code",
   "execution_count": 50,
   "id": "3e63adb3",
   "metadata": {},
   "outputs": [
    {
     "name": "stdout",
     "output_type": "stream",
     "text": [
      "Directional Expectaiton Testing:\n",
      "\n",
      "Testing model: GradientBoostingClassifier(learning_rate=0.01, max_depth=2, max_features='auto',\n",
      "                           random_state=0)\n",
      "Testing model: LogisticRegression(C=0.01, max_iter=10, random_state=0, tol=0.01)\n",
      "Testing model: MLPClassifier(batch_size=128, max_iter=500, random_state=0)\n",
      "Testing model: OneVsRestClassifier(estimator=LinearSVC(), n_jobs=1)\n",
      "Testing model: GaussianNB(var_smoothing=1e-07)\n",
      "Testing model: LinearSVC(C=0.0001, max_iter=10, random_state=0, tol=0.01)\n"
     ]
    },
    {
     "ename": "AssertionError",
     "evalue": "Changing gender from female to male should decrease survival probability.",
     "output_type": "error",
     "traceback": [
      "\u001b[0;31m---------------------------------------------------------------------------\u001b[0m",
      "\u001b[0;31mAssertionError\u001b[0m                            Traceback (most recent call last)",
      "\u001b[0;32m/tmp/ipykernel_38917/888793240.py\u001b[0m in \u001b[0;36m<cell line: 2>\u001b[0;34m()\u001b[0m\n\u001b[1;32m      9\u001b[0m     \u001b[0mX\u001b[0m\u001b[0;34m[\u001b[0m\u001b[0;34m'Sex'\u001b[0m\u001b[0;34m]\u001b[0m \u001b[0;34m=\u001b[0m \u001b[0;36m0.83739228\u001b[0m  \u001b[0;31m#Change gender\u001b[0m\u001b[0;34m\u001b[0m\u001b[0;34m\u001b[0m\u001b[0m\n\u001b[1;32m     10\u001b[0m     \u001b[0mp2_male_prob\u001b[0m \u001b[0;34m=\u001b[0m \u001b[0mmodel\u001b[0m\u001b[0;34m.\u001b[0m\u001b[0mpredict\u001b[0m\u001b[0;34m(\u001b[0m\u001b[0mnp\u001b[0m\u001b[0;34m.\u001b[0m\u001b[0marray\u001b[0m\u001b[0;34m(\u001b[0m\u001b[0mX\u001b[0m\u001b[0;34m)\u001b[0m\u001b[0;34m.\u001b[0m\u001b[0mreshape\u001b[0m\u001b[0;34m(\u001b[0m\u001b[0;36m1\u001b[0m\u001b[0;34m,\u001b[0m \u001b[0;34m-\u001b[0m\u001b[0;36m1\u001b[0m\u001b[0;34m)\u001b[0m\u001b[0;34m)\u001b[0m\u001b[0;34m[\u001b[0m\u001b[0;36m0\u001b[0m\u001b[0;34m]\u001b[0m  \u001b[0;31m# 0.56\u001b[0m\u001b[0;34m\u001b[0m\u001b[0;34m\u001b[0m\u001b[0m\n\u001b[0;32m---> 11\u001b[0;31m     \u001b[0;32massert\u001b[0m \u001b[0mp2_prob\u001b[0m \u001b[0;34m>\u001b[0m \u001b[0mp2_male_prob\u001b[0m\u001b[0;34m,\u001b[0m \u001b[0;34m'Changing gender from female to male should decrease survival probability.'\u001b[0m\u001b[0;34m\u001b[0m\u001b[0;34m\u001b[0m\u001b[0m\n\u001b[0m\u001b[1;32m     12\u001b[0m \u001b[0;31m#     X['Pclass'] = 0.95828974 # Change class\u001b[0m\u001b[0;34m\u001b[0m\u001b[0;34m\u001b[0m\u001b[0;34m\u001b[0m\u001b[0m\n\u001b[1;32m     13\u001b[0m \u001b[0;31m#     p2_class_prob = model.predict(np.array(X).reshape(1, -1))[0]  # 0.0\u001b[0m\u001b[0;34m\u001b[0m\u001b[0;34m\u001b[0m\u001b[0;34m\u001b[0m\u001b[0m\n",
      "\u001b[0;31mAssertionError\u001b[0m: Changing gender from female to male should decrease survival probability."
     ]
    }
   ],
   "source": [
    "print(\"Directional Expectaiton Testing:\\n\")\n",
    "for i in os.listdir(\"./models/titanic/sklearn/\"):\n",
    "    model = pickle.load(open(\"./models/titanic/sklearn/\"+i, 'rb'))\n",
    "    print(\"Testing model:\", model)\n",
    "    X = datasets.get_titanic().iloc[291]\n",
    "    y = X[\"Survived\"]\n",
    "    X = X[1:]\n",
    "    p2_prob = model.predict(np.array(X).reshape(1, -1))[0]  # 1.0\n",
    "    X['Sex'] = 0.83739228  #Change gender\n",
    "    p2_male_prob = model.predict(np.array(X).reshape(1, -1))[0]  # 0.56\n",
    "    assert p2_prob > p2_male_prob, 'Changing gender from female to male should decrease survival probability.'\n",
    "    X['Pclass'] = 0.95828974 # Change class\n",
    "    p2_class_prob = model.predict(np.array(X).reshape(1, -1))[0]  # 0.0\n",
    "    assert p2_prob > p2_class_prob, 'Changing class from 1 to 3 should decrease survival probability.'\n",
    "    X['Fare'] = -0.575978 # # Lower fare\n",
    "    p2_fare_prob = model.predict(np.array(X).reshape(1, -1))[0]  # 0.85\n",
    "    assert p2_prob > p2_fare_prob, 'Reducing fare should decrease survival probability.'\n",
    "print(\"Directional expectation test succesful\")"
   ]
  },
  {
   "cell_type": "markdown",
   "id": "efb56f20",
   "metadata": {},
   "source": [
    "In this case the random forest fails the test.\n",
    "# Model evaluation to ensure satisfactory performance\n",
    "At last, we evaluate our model to ensure that the performance does not degrade. Here, we assess model performance in terms of accuracy and it should not be less than 80%."
   ]
  },
  {
   "cell_type": "code",
   "execution_count": 37,
   "id": "1d8e5e08",
   "metadata": {},
   "outputs": [
    {
     "name": "stdout",
     "output_type": "stream",
     "text": [
      "model evaluation to ensure satisfactory performance:\n",
      "\n",
      "GradientBoostingClassifier(learning_rate=0.01, max_depth=2, max_features='auto',\n",
      "                           random_state=0)\n",
      "LogisticRegression(C=0.01, max_iter=10, random_state=0, tol=0.01)\n",
      "MLPClassifier(batch_size=128, max_iter=500, random_state=0)\n",
      "OneVsRestClassifier(estimator=LinearSVC(), n_jobs=1)\n",
      "GaussianNB(var_smoothing=1e-07)\n",
      "LinearSVC(C=0.0001, max_iter=10, random_state=0, tol=0.01)\n",
      "DecisionTreeClassifier(max_depth=2, random_state=0)\n",
      "RandomForestClassifier(max_depth=10, random_state=0)\n",
      "Performance testing succesful!\n"
     ]
    }
   ],
   "source": [
    "print(\"model evaluation to ensure satisfactory performance:\\n\")\n",
    "for i in os.listdir(\"./models/titanic/sklearn/\"):\n",
    "    model = pickle.load(open(\"./models/titanic/sklearn/\"+i, 'rb'))\n",
    "    print(model)\n",
    "    X = datasets.get_titanic().iloc[291]\n",
    "    y = X[\"Survived\"]\n",
    "    X = X[1:]\n",
    "    p2_prob = model.predict(np.array(X).reshape(1, -1))[0]  # 1.0\n",
    "    acc_test = accuracy_score([y], [np.round(p2_prob)])\n",
    "    assert acc_test > 0.80, 'Accuracy on test should be > 0.82'\n",
    "print(\"Performance testing succesful!\")"
   ]
  },
  {
   "cell_type": "markdown",
   "id": "97146472",
   "metadata": {},
   "source": [
    "We can also try to change the line number and test with another entry."
   ]
  },
  {
   "cell_type": "code",
   "execution_count": null,
   "id": "34bb6212",
   "metadata": {},
   "outputs": [],
   "source": []
  }
 ],
 "metadata": {
  "kernelspec": {
   "display_name": "Python 3 (ipykernel)",
   "language": "python",
   "name": "python3"
  },
  "language_info": {
   "codemirror_mode": {
    "name": "ipython",
    "version": 3
   },
   "file_extension": ".py",
   "mimetype": "text/x-python",
   "name": "python",
   "nbconvert_exporter": "python",
   "pygments_lexer": "ipython3",
   "version": "3.8.10"
  },
  "latex_envs": {
   "LaTeX_envs_menu_present": true,
   "autoclose": false,
   "autocomplete": true,
   "bibliofile": "biblio.bib",
   "cite_by": "apalike",
   "current_citInitial": 1,
   "eqLabelWithNumbers": true,
   "eqNumInitial": 1,
   "hotkeys": {
    "equation": "Ctrl-E",
    "itemize": "Ctrl-I"
   },
   "labels_anchors": false,
   "latex_user_defs": false,
   "report_style_numbering": false,
   "user_envs_cfg": false
  },
  "nbTranslate": {
   "displayLangs": [
    "*"
   ],
   "hotkey": "alt-t",
   "langInMainMenu": true,
   "sourceLang": "en",
   "targetLang": "fr",
   "useGoogleTranslate": true
  },
  "toc": {
   "base_numbering": 1,
   "nav_menu": {},
   "number_sections": true,
   "sideBar": true,
   "skip_h1_title": false,
   "title_cell": "Table of Contents",
   "title_sidebar": "Contents",
   "toc_cell": false,
   "toc_position": {},
   "toc_section_display": true,
   "toc_window_display": false
  },
  "varInspector": {
   "cols": {
    "lenName": 16,
    "lenType": 16,
    "lenVar": 40
   },
   "kernels_config": {
    "python": {
     "delete_cmd_postfix": "",
     "delete_cmd_prefix": "del ",
     "library": "var_list.py",
     "varRefreshCmd": "print(var_dic_list())"
    },
    "r": {
     "delete_cmd_postfix": ") ",
     "delete_cmd_prefix": "rm(",
     "library": "var_list.r",
     "varRefreshCmd": "cat(var_dic_list()) "
    }
   },
   "types_to_exclude": [
    "module",
    "function",
    "builtin_function_or_method",
    "instance",
    "_Feature"
   ],
   "window_display": false
  }
 },
 "nbformat": 4,
 "nbformat_minor": 5
}
